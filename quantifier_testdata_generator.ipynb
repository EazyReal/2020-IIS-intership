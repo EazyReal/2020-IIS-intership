{
 "cells": [
  {
   "cell_type": "markdown",
   "metadata": {},
   "source": [
    "# Q-Test Generator\n",
    "- generate Quantifer Test Data for the task of NLI"
   ]
  },
  {
   "cell_type": "markdown",
   "metadata": {},
   "source": [
    "## S"
   ]
  },
  {
   "cell_type": "code",
   "execution_count": 23,
   "metadata": {},
   "outputs": [],
   "source": [
    "S = [\"person\", \"he\", \"she\", \"the bird\"]"
   ]
  },
  {
   "cell_type": "markdown",
   "metadata": {},
   "source": [
    "## NegQ"
   ]
  },
  {
   "cell_type": "code",
   "execution_count": 24,
   "metadata": {},
   "outputs": [],
   "source": [
    "NegQ = [\"does not\", \"does\"]"
   ]
  },
  {
   "cell_type": "markdown",
   "metadata": {},
   "source": [
    "## VP"
   ]
  },
  {
   "cell_type": "code",
   "execution_count": 25,
   "metadata": {},
   "outputs": [],
   "source": [
    "VP = [\"like\", \"hate\", \"enjoy\"]"
   ]
  },
  {
   "cell_type": "markdown",
   "metadata": {},
   "source": [
    "## NP"
   ]
  },
  {
   "cell_type": "code",
   "execution_count": 26,
   "metadata": {},
   "outputs": [],
   "source": [
    "NP = [\"coffee\", \"tea\", \"to sleep\", \"to work\"]"
   ]
  },
  {
   "cell_type": "markdown",
   "metadata": {},
   "source": [
    "## Build"
   ]
  },
  {
   "cell_type": "code",
   "execution_count": 27,
   "metadata": {},
   "outputs": [],
   "source": [
    "# reset\n",
    "sent = []"
   ]
  },
  {
   "cell_type": "code",
   "execution_count": 28,
   "metadata": {},
   "outputs": [],
   "source": [
    "# append\n",
    "for s in S:\n",
    "    for neg_q in NegQ:\n",
    "        for v in VP:\n",
    "            for o in NP:\n",
    "                sent.append(\" \".join([s, neg_q, v, o]))"
   ]
  },
  {
   "cell_type": "code",
   "execution_count": 29,
   "metadata": {},
   "outputs": [
    {
     "data": {
      "text/plain": [
       "['person does not like coffee',\n",
       " 'person does not like tea',\n",
       " 'person does not like to sleep',\n",
       " 'person does not like to work',\n",
       " 'person does not hate coffee',\n",
       " 'person does not hate tea',\n",
       " 'person does not hate to sleep',\n",
       " 'person does not hate to work',\n",
       " 'person does not enjoy coffee',\n",
       " 'person does not enjoy tea',\n",
       " 'person does not enjoy to sleep',\n",
       " 'person does not enjoy to work',\n",
       " 'person does like coffee',\n",
       " 'person does like tea',\n",
       " 'person does like to sleep',\n",
       " 'person does like to work',\n",
       " 'person does hate coffee',\n",
       " 'person does hate tea',\n",
       " 'person does hate to sleep',\n",
       " 'person does hate to work',\n",
       " 'person does enjoy coffee',\n",
       " 'person does enjoy tea',\n",
       " 'person does enjoy to sleep',\n",
       " 'person does enjoy to work',\n",
       " 'he does not like coffee',\n",
       " 'he does not like tea',\n",
       " 'he does not like to sleep',\n",
       " 'he does not like to work',\n",
       " 'he does not hate coffee',\n",
       " 'he does not hate tea',\n",
       " 'he does not hate to sleep',\n",
       " 'he does not hate to work',\n",
       " 'he does not enjoy coffee',\n",
       " 'he does not enjoy tea',\n",
       " 'he does not enjoy to sleep',\n",
       " 'he does not enjoy to work',\n",
       " 'he does like coffee',\n",
       " 'he does like tea',\n",
       " 'he does like to sleep',\n",
       " 'he does like to work',\n",
       " 'he does hate coffee',\n",
       " 'he does hate tea',\n",
       " 'he does hate to sleep',\n",
       " 'he does hate to work',\n",
       " 'he does enjoy coffee',\n",
       " 'he does enjoy tea',\n",
       " 'he does enjoy to sleep',\n",
       " 'he does enjoy to work',\n",
       " 'she does not like coffee',\n",
       " 'she does not like tea',\n",
       " 'she does not like to sleep',\n",
       " 'she does not like to work',\n",
       " 'she does not hate coffee',\n",
       " 'she does not hate tea',\n",
       " 'she does not hate to sleep',\n",
       " 'she does not hate to work',\n",
       " 'she does not enjoy coffee',\n",
       " 'she does not enjoy tea',\n",
       " 'she does not enjoy to sleep',\n",
       " 'she does not enjoy to work',\n",
       " 'she does like coffee',\n",
       " 'she does like tea',\n",
       " 'she does like to sleep',\n",
       " 'she does like to work',\n",
       " 'she does hate coffee',\n",
       " 'she does hate tea',\n",
       " 'she does hate to sleep',\n",
       " 'she does hate to work',\n",
       " 'she does enjoy coffee',\n",
       " 'she does enjoy tea',\n",
       " 'she does enjoy to sleep',\n",
       " 'she does enjoy to work',\n",
       " 'the bird does not like coffee',\n",
       " 'the bird does not like tea',\n",
       " 'the bird does not like to sleep',\n",
       " 'the bird does not like to work',\n",
       " 'the bird does not hate coffee',\n",
       " 'the bird does not hate tea',\n",
       " 'the bird does not hate to sleep',\n",
       " 'the bird does not hate to work',\n",
       " 'the bird does not enjoy coffee',\n",
       " 'the bird does not enjoy tea',\n",
       " 'the bird does not enjoy to sleep',\n",
       " 'the bird does not enjoy to work',\n",
       " 'the bird does like coffee',\n",
       " 'the bird does like tea',\n",
       " 'the bird does like to sleep',\n",
       " 'the bird does like to work',\n",
       " 'the bird does hate coffee',\n",
       " 'the bird does hate tea',\n",
       " 'the bird does hate to sleep',\n",
       " 'the bird does hate to work',\n",
       " 'the bird does enjoy coffee',\n",
       " 'the bird does enjoy tea',\n",
       " 'the bird does enjoy to sleep',\n",
       " 'the bird does enjoy to work']"
      ]
     },
     "execution_count": 29,
     "metadata": {},
     "output_type": "execute_result"
    }
   ],
   "source": [
    "sent"
   ]
  },
  {
   "cell_type": "code",
   "execution_count": null,
   "metadata": {},
   "outputs": [],
   "source": []
  }
 ],
 "metadata": {
  "kernelspec": {
   "display_name": "Python 3",
   "language": "python",
   "name": "python3"
  },
  "language_info": {
   "codemirror_mode": {
    "name": "ipython",
    "version": 3
   },
   "file_extension": ".py",
   "mimetype": "text/x-python",
   "name": "python",
   "nbconvert_exporter": "python",
   "pygments_lexer": "ipython3",
   "version": "3.7.7"
  }
 },
 "nbformat": 4,
 "nbformat_minor": 4
}
