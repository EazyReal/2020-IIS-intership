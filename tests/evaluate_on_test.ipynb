{
 "cells": [
  {
   "cell_type": "markdown",
   "metadata": {},
   "source": [
    "# Evaluation on HANS dataset\n",
    "- hans dataset is with label \"non_entailment\""
   ]
  },
  {
   "cell_type": "markdown",
   "metadata": {},
   "source": [
    "# Loading Dependencies"
   ]
  },
  {
   "cell_type": "code",
   "execution_count": 1,
   "metadata": {},
   "outputs": [],
   "source": [
    "%load_ext autoreload\n",
    "%autoreload 2"
   ]
  },
  {
   "cell_type": "code",
   "execution_count": 2,
   "metadata": {},
   "outputs": [],
   "source": [
    "import os, sys\n",
    "sys.path.append(os.path.abspath(\"..\"))\n",
    "# sys.path.append(os.path.abspath(\"..\"))"
   ]
  },
  {
   "cell_type": "code",
   "execution_count": 3,
   "metadata": {},
   "outputs": [],
   "source": [
    "import logging"
   ]
  },
  {
   "cell_type": "code",
   "execution_count": 4,
   "metadata": {},
   "outputs": [],
   "source": [
    "from src.interpret import (\n",
    "    show_sequence_attention,\n",
    "    show_matrix_attention\n",
    ")\n",
    "from src.models import SynNLIModel\n",
    "from src.data_git.reader import NLIGraphReader"
   ]
  },
  {
   "cell_type": "code",
   "execution_count": 5,
   "metadata": {},
   "outputs": [],
   "source": [
    "from allennlp.common import Params\n",
    "from allennlp.common import Registrable\n",
    "from allennlp.models import Model\n",
    "from allennlp.data import Vocabulary, PyTorchDataLoader, Instance"
   ]
  },
  {
   "cell_type": "markdown",
   "metadata": {},
   "source": [
    "# Load Model Here"
   ]
  },
  {
   "cell_type": "code",
   "execution_count": 6,
   "metadata": {},
   "outputs": [],
   "source": [
    "#serialization_dir = \"../param/GEN_BERT_300d_MNLI/\"\n",
    "serialization_dir = \"../param/GMN_ELMO_RGCN_MPM_300d/\""
   ]
  },
  {
   "cell_type": "code",
   "execution_count": 7,
   "metadata": {},
   "outputs": [],
   "source": [
    "config_param = Params.from_file(serialization_dir+\"config.json\")"
   ]
  },
  {
   "cell_type": "code",
   "execution_count": 8,
   "metadata": {},
   "outputs": [],
   "source": [
    "lm = Model.load(\n",
    "    config = config_param,\n",
    "    serialization_dir = serialization_dir,\n",
    "    weights_file = None, # use best by default\n",
    "    cuda_device = -1\n",
    ") "
   ]
  },
  {
   "cell_type": "markdown",
   "metadata": {},
   "source": [
    "# Load Data Here\n",
    "- input_parsed should be set correctly"
   ]
  },
  {
   "cell_type": "code",
   "execution_count": 9,
   "metadata": {},
   "outputs": [
    {
     "data": {
      "text/plain": [
       "'../data/hans_preprocessed/dev.jsonl'"
      ]
     },
     "execution_count": 9,
     "metadata": {},
     "output_type": "execute_result"
    }
   ],
   "source": [
    "data_dir = \"../data/hans_preprocessed/\"\n",
    "data_file = \"dev.jsonl\"\n",
    "data_path = data_dir + data_file\n",
    "data_path"
   ]
  },
  {
   "cell_type": "code",
   "execution_count": 19,
   "metadata": {},
   "outputs": [],
   "source": [
    "from src.data_git import ELMoTokenCharactersIndexerWithMask\n",
    "elmo_indexer = {\"tokens\": ELMoTokenCharactersIndexerWithMask()}"
   ]
  },
  {
   "cell_type": "code",
   "execution_count": 20,
   "metadata": {},
   "outputs": [],
   "source": [
    "input_parsed = True\n",
    "test = False\n",
    "\n",
    "if not input_parsed:\n",
    "    nlp = stanza.Pipeline(lang='en', processors='tokenize,mwt,pos,lemma,depparse')\n",
    "    rdr = NLIGraphReader(\n",
    "            wordpiece_tokenizer = None,\n",
    "            token_indexers = elmo_indexer,\n",
    "            combine_input_fields = None,\n",
    "            input_parsed  = False,\n",
    "            parser = nlp,\n",
    "            input_fields = None,\n",
    "            max_instances=100 if test is True else None,\n",
    "    )\n",
    "else:\n",
    "    rdr = NLIGraphReader(\n",
    "            wordpiece_tokenizer = None,\n",
    "            token_indexers = elmo_indexer,\n",
    "            combine_input_fields = None,\n",
    "            input_parsed  = True,\n",
    "            parser = None,\n",
    "            input_fields = None,\n",
    "            max_instances=100 if test is True else None,\n",
    "    )"
   ]
  },
  {
   "cell_type": "code",
   "execution_count": 21,
   "metadata": {},
   "outputs": [
    {
     "data": {
      "application/vnd.jupyter.widget-view+json": {
       "model_id": "3b4449a9cbea4e4cb8fa91e57baee456",
       "version_major": 2,
       "version_minor": 0
      },
      "text/plain": [
       "HBox(children=(FloatProgress(value=1.0, bar_style='info', description='reading instances', max=1.0, style=Prog…"
      ]
     },
     "metadata": {},
     "output_type": "display_data"
    },
    {
     "name": "stderr",
     "output_type": "stream",
     "text": [
      "\n"
     ]
    }
   ],
   "source": [
    "devset = rdr.read(data_path)"
   ]
  },
  {
   "cell_type": "code",
   "execution_count": 22,
   "metadata": {},
   "outputs": [
    {
     "data": {
      "application/vnd.jupyter.widget-view+json": {
       "model_id": "023319bf18b9478fb06caa900eb1061b",
       "version_major": 2,
       "version_minor": 0
      },
      "text/plain": [
       "HBox(children=(FloatProgress(value=0.0, description='building vocab', max=30000.0, style=ProgressStyle(descrip…"
      ]
     },
     "metadata": {},
     "output_type": "display_data"
    },
    {
     "name": "stderr",
     "output_type": "stream",
     "text": [
      "\n"
     ]
    }
   ],
   "source": [
    "vocab = Vocabulary.from_instances(\n",
    "    devset,\n",
    "    min_count={\"edge_labels\":500},\n",
    "    max_vocab_size={\"edge_labels\":20},\n",
    "    non_padded_namespaces= [\"*tags\", \"labels\"]\n",
    ")"
   ]
  },
  {
   "cell_type": "code",
   "execution_count": 23,
   "metadata": {},
   "outputs": [],
   "source": [
    "devset.index_with(vocab)"
   ]
  },
  {
   "cell_type": "code",
   "execution_count": 24,
   "metadata": {},
   "outputs": [
    {
     "data": {
      "text/plain": [
       "[The, president, advised, the, doctor, .]"
      ]
     },
     "execution_count": 24,
     "metadata": {},
     "output_type": "execute_result"
    }
   ],
   "source": [
    "devset[0].fields[\"tokens_p\"].tokens"
   ]
  },
  {
   "cell_type": "code",
   "execution_count": 25,
   "metadata": {},
   "outputs": [],
   "source": [
    "loader = PyTorchDataLoader(devset, batch_size=16)"
   ]
  },
  {
   "cell_type": "code",
   "execution_count": 26,
   "metadata": {},
   "outputs": [],
   "source": [
    "batch = next(iter(loader))"
   ]
  },
  {
   "cell_type": "code",
   "execution_count": 27,
   "metadata": {},
   "outputs": [
    {
     "data": {
      "text/plain": [
       "{'probs': tensor([[9.8049e-01, 1.5613e-02, 3.8986e-03],\n",
       "         [9.1177e-01, 3.2681e-02, 5.5552e-02],\n",
       "         [9.7483e-01, 8.8424e-03, 1.6329e-02],\n",
       "         [9.9631e-01, 1.8235e-03, 1.8619e-03],\n",
       "         [9.9708e-01, 2.3341e-03, 5.8276e-04],\n",
       "         [9.9035e-01, 5.9803e-03, 3.6746e-03],\n",
       "         [9.0902e-01, 8.5145e-02, 5.8389e-03],\n",
       "         [9.8575e-01, 7.3512e-03, 6.9035e-03],\n",
       "         [9.9563e-01, 2.5114e-03, 1.8599e-03],\n",
       "         [9.5663e-01, 1.9505e-02, 2.3863e-02],\n",
       "         [9.7471e-01, 1.8319e-02, 6.9720e-03],\n",
       "         [9.9896e-01, 2.7220e-04, 7.6922e-04],\n",
       "         [8.5594e-01, 1.3887e-01, 5.1819e-03],\n",
       "         [9.9561e-01, 2.1901e-03, 2.1973e-03],\n",
       "         [9.6964e-01, 1.2363e-02, 1.7999e-02],\n",
       "         [8.5911e-01, 1.1734e-01, 2.3555e-02]], grad_fn=<SoftmaxBackward>),\n",
       " 'loss': tensor(0.0426, grad_fn=<NllLossBackward>),\n",
       " 'predicted_label': ['entailment',\n",
       "  'entailment',\n",
       "  'entailment',\n",
       "  'entailment',\n",
       "  'entailment',\n",
       "  'entailment',\n",
       "  'entailment',\n",
       "  'entailment',\n",
       "  'entailment',\n",
       "  'entailment',\n",
       "  'entailment',\n",
       "  'entailment',\n",
       "  'entailment',\n",
       "  'entailment',\n",
       "  'entailment',\n",
       "  'entailment']}"
      ]
     },
     "execution_count": 27,
     "metadata": {},
     "output_type": "execute_result"
    }
   ],
   "source": [
    "lm.make_output_human_readable(lm(**batch))"
   ]
  },
  {
   "cell_type": "markdown",
   "metadata": {},
   "source": [
    "# Import Attention Visualizer"
   ]
  },
  {
   "cell_type": "code",
   "execution_count": 31,
   "metadata": {},
   "outputs": [],
   "source": [
    "from src.interpret import *\n",
    "from src.interpret.attention_visualizer import instance2json"
   ]
  },
  {
   "cell_type": "code",
   "execution_count": 32,
   "metadata": {},
   "outputs": [],
   "source": [
    "vis = AttentionVisualizer(model = lm, reader = rdr)"
   ]
  },
  {
   "cell_type": "code",
   "execution_count": 36,
   "metadata": {},
   "outputs": [
    {
     "data": {
      "text/plain": [
       "{'tokens_p': <allennlp.data.fields.text_field.TextField at 0x7fc6e36fe140>,\n",
       " 'tokens_h': <allennlp.data.fields.text_field.TextField at 0x7fc6e36fe190>,\n",
       " 'g_p': <src.data_git.sparse_adjacency_field.SparseAdjacencyField at 0x7fc6e36f0bf0>,\n",
       " 'g_h': <src.data_git.sparse_adjacency_field.SparseAdjacencyField at 0x7fc6e36f0d10>,\n",
       " 'label': <allennlp.data.fields.label_field.LabelField at 0x7fc6e36fe1e0>}"
      ]
     },
     "execution_count": 36,
     "metadata": {},
     "output_type": "execute_result"
    }
   ],
   "source": [
    "devset[0].fields"
   ]
  },
  {
   "cell_type": "code",
   "execution_count": 40,
   "metadata": {},
   "outputs": [
    {
     "name": "stderr",
     "output_type": "stream",
     "text": [
      "2020-09-14 22:20:20 INFO: tokens_p are ['The', 'president', 'advised', 'the', 'doctor', '.']\n",
      "2020-09-14 22:20:20 INFO: tokens_h are ['The', 'doctor', 'advised', 'the', 'president', '.']\n",
      "2020-09-14 22:20:20 INFO: the predicted label is ['entailment']\n",
      "2020-09-14 22:20:20 INFO: the gold label is non-entailment\n"
     ]
    },
    {
     "data": {
      "image/png": "[encoded data removed]",
      "text/plain": [
       "<Figure size 432x288 with 2 Axes>"
      ]
     },
     "metadata": {
      "needs_background": "light"
     },
     "output_type": "display_data"
    },
    {
     "data": {
      "image/png": "[encoded data removed]",
      "text/plain": [
       "<Figure size 432x288 with 2 Axes>"
      ]
     },
     "metadata": {
      "needs_background": "light"
     },
     "output_type": "display_data"
    },
    {
     "name": "stderr",
     "output_type": "stream",
     "text": [
      "2020-09-14 22:20:21 INFO: matrix attention at layer 0\n"
     ]
    },
    {
     "ename": "TypeError",
     "evalue": "'NoneType' object is not subscriptable",
     "output_type": "error",
     "traceback": [
      "\u001b[0;31m---------------------------------------------------------------------------\u001b[0m",
      "\u001b[0;31mTypeError\u001b[0m                                 Traceback (most recent call last)",
      "\u001b[0;32m<ipython-input-40-c8f0d6c26260>\u001b[0m in \u001b[0;36m<module>\u001b[0;34m\u001b[0m\n\u001b[0;32m----> 1\u001b[0;31m \u001b[0mvis\u001b[0m\u001b[0;34m.\u001b[0m\u001b[0mvisualize_instance\u001b[0m\u001b[0;34m(\u001b[0m\u001b[0mdevset\u001b[0m\u001b[0;34m[\u001b[0m\u001b[0;36m0\u001b[0m\u001b[0;34m]\u001b[0m\u001b[0;34m)\u001b[0m\u001b[0;34m\u001b[0m\u001b[0;34m\u001b[0m\u001b[0m\n\u001b[0m",
      "\u001b[0;32m/work/2020-IIS-NLU-internship/MNLI/src/interpret/attention_visualizer.py\u001b[0m in \u001b[0;36mvisualize_instance\u001b[0;34m(self, instance, serialization_dir)\u001b[0m\n\u001b[1;32m     97\u001b[0m             \u001b[0;32mfor\u001b[0m \u001b[0mi\u001b[0m \u001b[0;32min\u001b[0m \u001b[0mrange\u001b[0m\u001b[0;34m(\u001b[0m\u001b[0mnum_layers\u001b[0m\u001b[0;34m)\u001b[0m\u001b[0;34m:\u001b[0m\u001b[0;34m\u001b[0m\u001b[0;34m\u001b[0m\u001b[0m\n\u001b[1;32m     98\u001b[0m                 \u001b[0mlogger\u001b[0m\u001b[0;34m.\u001b[0m\u001b[0minfo\u001b[0m\u001b[0;34m(\u001b[0m\u001b[0;34mf\"matrix attention at layer {i}\"\u001b[0m\u001b[0;34m)\u001b[0m\u001b[0;34m\u001b[0m\u001b[0;34m\u001b[0m\u001b[0m\n\u001b[0;32m---> 99\u001b[0;31m                 \u001b[0mshow_matrix_attention\u001b[0m\u001b[0;34m(\u001b[0m\u001b[0mtokens_p\u001b[0m\u001b[0;34m,\u001b[0m \u001b[0mtokens_h\u001b[0m\u001b[0;34m,\u001b[0m \u001b[0mret\u001b[0m\u001b[0;34m[\u001b[0m\u001b[0;34m\"attentions\"\u001b[0m\u001b[0;34m]\u001b[0m\u001b[0;34m[\u001b[0m\u001b[0;34mf\"matching{i}\"\u001b[0m\u001b[0;34m]\u001b[0m\u001b[0;34m[\u001b[0m\u001b[0;36m0\u001b[0m\u001b[0;34m]\u001b[0m\u001b[0;34m)\u001b[0m\u001b[0;34m\u001b[0m\u001b[0;34m\u001b[0m\u001b[0m\n\u001b[0m\u001b[1;32m    100\u001b[0m \u001b[0;34m\u001b[0m\u001b[0m\n\u001b[1;32m    101\u001b[0m \u001b[0;34m\u001b[0m\u001b[0m\n",
      "\u001b[0;31mTypeError\u001b[0m: 'NoneType' object is not subscriptable"
     ]
    }
   ],
   "source": [
    "vis.visualize_instance(devset[0])"
   ]
  },
  {
   "cell_type": "code",
   "execution_count": 41,
   "metadata": {},
   "outputs": [],
   "source": [
    "ed = devset[0].fields[\"g_p\"].edge_indices\n",
    "nodes = instance2json(devset[0])[\"sentence1\"]"
   ]
  },
  {
   "cell_type": "code",
   "execution_count": 42,
   "metadata": {},
   "outputs": [],
   "source": [
    "import networkx as nx\n",
    "from torch_geometric.data import Data\n",
    "from torch_geometric.utils import to_networkx\n",
    "\n",
    "ed = devset[0].fields[\"g_p\"].edge_indices\n",
    "et = devset[0].fields[\"g_p\"].labels\n",
    "nodes = instance2json(devset[0])[\"sentence1\"]\n",
    "G = Data(edge_index=ed, node_attr=nodes, edge_attr=et, num_nodes=len(nodes))"
   ]
  },
  {
   "cell_type": "code",
   "execution_count": 43,
   "metadata": {},
   "outputs": [
    {
     "name": "stdout",
     "output_type": "stream",
     "text": [
      "[0, 1, 2, 3, 4, 5]\n",
      "[(0, 1), (1, 0), (1, 2), (2, 1), (2, 4), (2, 5), (2, 3), (3, 4), (3, 2), (4, 3), (4, 2), (4, 5), (5, 2), (5, 4)]\n"
     ]
    },
    {
     "data": {
      "image/png": "[encoded data removed]",
      "text/plain": [
       "<Figure size 432x288 with 1 Axes>"
      ]
     },
     "metadata": {},
     "output_type": "display_data"
    }
   ],
   "source": [
    "from src.data_git.utils import draw\n",
    "draw(G)"
   ]
  },
  {
   "cell_type": "markdown",
   "metadata": {},
   "source": [
    "# Probing Here"
   ]
  },
  {
   "cell_type": "code",
   "execution_count": 48,
   "metadata": {},
   "outputs": [
    {
     "name": "stderr",
     "output_type": "stream",
     "text": [
      "2020-09-14 22:21:02 WARNING: Can not find mwt: default from official model list. Ignoring it.\n",
      "2020-09-14 22:21:02 INFO: Loading these models for language: en (English):\n",
      "=======================\n",
      "| Processor | Package |\n",
      "-----------------------\n",
      "| tokenize  | ewt     |\n",
      "| pos       | ewt     |\n",
      "| lemma     | ewt     |\n",
      "| depparse  | ewt     |\n",
      "=======================\n",
      "\n",
      "2020-09-14 22:21:02 INFO: Use device: gpu\n",
      "2020-09-14 22:21:02 INFO: Loading: tokenize\n",
      "2020-09-14 22:21:02 INFO: Loading: pos\n",
      "2020-09-14 22:21:03 INFO: Loading: lemma\n",
      "2020-09-14 22:21:03 INFO: Loading: depparse\n",
      "2020-09-14 22:21:04 INFO: Done loading processors!\n"
     ]
    }
   ],
   "source": [
    "# load nlp\n",
    "from src.data_git.reader import NLIGraphReader\n",
    "import stanza\n",
    "nlp = stanza.Pipeline(lang='en', processors='tokenize,mwt,pos,lemma,depparse')\n",
    "rdr_nlp = NLIGraphReader(\n",
    "        wordpiece_tokenizer = None,\n",
    "        token_indexers = elmo_indexer,\n",
    "        combine_input_fields = None,\n",
    "        input_parsed  = False,\n",
    "        parser = nlp,\n",
    "        input_fields = None,\n",
    ")"
   ]
  },
  {
   "cell_type": "code",
   "execution_count": 49,
   "metadata": {},
   "outputs": [],
   "source": [
    "probe_json = {\n",
    "    \"sentence1\": \"Allen does not kept cat.\",\n",
    "    \"sentence2\" : \"Allen has no cat and no dog.\",\n",
    "    \"gold_label\": \"contradiction\",\n",
    "}"
   ]
  },
  {
   "cell_type": "code",
   "execution_count": 50,
   "metadata": {},
   "outputs": [],
   "source": [
    "vis_probe = AttentionVisualizer(model=lm, reader = rdr_nlp)"
   ]
  },
  {
   "cell_type": "code",
   "execution_count": 51,
   "metadata": {},
   "outputs": [
    {
     "name": "stderr",
     "output_type": "stream",
     "text": [
      "2020-09-14 22:21:05 INFO: tokens_p are ['Allen', 'does', 'not', 'kept', 'cat', '.']\n",
      "2020-09-14 22:21:05 INFO: tokens_h are ['Allen', 'has', 'no', 'cat', 'and', 'no', 'dog', '.']\n",
      "2020-09-14 22:21:05 INFO: the predicted label is ['contradiction']\n",
      "2020-09-14 22:21:05 INFO: the gold label is contradiction\n"
     ]
    },
    {
     "data": {
      "image/png": "[encoded data removed]",
      "text/plain": [
       "<Figure size 432x288 with 2 Axes>"
      ]
     },
     "metadata": {
      "needs_background": "light"
     },
     "output_type": "display_data"
    },
    {
     "data": {
      "image/png": "[encoded data removed]",
      "text/plain": [
       "<Figure size 432x288 with 2 Axes>"
      ]
     },
     "metadata": {
      "needs_background": "light"
     },
     "output_type": "display_data"
    },
    {
     "name": "stderr",
     "output_type": "stream",
     "text": [
      "2020-09-14 22:21:05 INFO: matrix attention at layer 0\n"
     ]
    },
    {
     "ename": "TypeError",
     "evalue": "'NoneType' object is not subscriptable",
     "output_type": "error",
     "traceback": [
      "\u001b[0;31m---------------------------------------------------------------------------\u001b[0m",
      "\u001b[0;31mTypeError\u001b[0m                                 Traceback (most recent call last)",
      "\u001b[0;32m<ipython-input-51-10ccf7ff8dd6>\u001b[0m in \u001b[0;36m<module>\u001b[0;34m\u001b[0m\n\u001b[0;32m----> 1\u001b[0;31m \u001b[0mvis_probe\u001b[0m\u001b[0;34m.\u001b[0m\u001b[0mvisualize_json\u001b[0m\u001b[0;34m(\u001b[0m\u001b[0mprobe_json\u001b[0m\u001b[0;34m)\u001b[0m\u001b[0;34m\u001b[0m\u001b[0;34m\u001b[0m\u001b[0m\n\u001b[0m",
      "\u001b[0;32m/work/2020-IIS-NLU-internship/MNLI/src/interpret/attention_visualizer.py\u001b[0m in \u001b[0;36mvisualize_json\u001b[0;34m(self, json_dict, serialization_dir)\u001b[0m\n\u001b[1;32m     51\u001b[0m             \u001b[0mgold_label\u001b[0m \u001b[0;34m=\u001b[0m \u001b[0mjson_dict\u001b[0m\u001b[0;34m[\u001b[0m\u001b[0;34m\"gold_label\"\u001b[0m\u001b[0;34m]\u001b[0m \u001b[0;32mif\u001b[0m \u001b[0;34m\"gold_label\"\u001b[0m \u001b[0;32min\u001b[0m \u001b[0mjson_dict\u001b[0m\u001b[0;34m.\u001b[0m\u001b[0mkeys\u001b[0m\u001b[0;34m(\u001b[0m\u001b[0;34m)\u001b[0m \u001b[0;32melse\u001b[0m \u001b[0;32mNone\u001b[0m\u001b[0;34m,\u001b[0m\u001b[0;34m\u001b[0m\u001b[0;34m\u001b[0m\u001b[0m\n\u001b[1;32m     52\u001b[0m         )\n\u001b[0;32m---> 53\u001b[0;31m         \u001b[0mself\u001b[0m\u001b[0;34m.\u001b[0m\u001b[0mvisualize_instance\u001b[0m\u001b[0;34m(\u001b[0m\u001b[0minstance\u001b[0m\u001b[0;34m,\u001b[0m \u001b[0mserialization_dir\u001b[0m\u001b[0;34m)\u001b[0m\u001b[0;34m\u001b[0m\u001b[0;34m\u001b[0m\u001b[0m\n\u001b[0m\u001b[1;32m     54\u001b[0m         \u001b[0;32mreturn\u001b[0m\u001b[0;34m\u001b[0m\u001b[0;34m\u001b[0m\u001b[0m\n\u001b[1;32m     55\u001b[0m \u001b[0;34m\u001b[0m\u001b[0m\n",
      "\u001b[0;32m/work/2020-IIS-NLU-internship/MNLI/src/interpret/attention_visualizer.py\u001b[0m in \u001b[0;36mvisualize_instance\u001b[0;34m(self, instance, serialization_dir)\u001b[0m\n\u001b[1;32m     97\u001b[0m             \u001b[0;32mfor\u001b[0m \u001b[0mi\u001b[0m \u001b[0;32min\u001b[0m \u001b[0mrange\u001b[0m\u001b[0;34m(\u001b[0m\u001b[0mnum_layers\u001b[0m\u001b[0;34m)\u001b[0m\u001b[0;34m:\u001b[0m\u001b[0;34m\u001b[0m\u001b[0;34m\u001b[0m\u001b[0m\n\u001b[1;32m     98\u001b[0m                 \u001b[0mlogger\u001b[0m\u001b[0;34m.\u001b[0m\u001b[0minfo\u001b[0m\u001b[0;34m(\u001b[0m\u001b[0;34mf\"matrix attention at layer {i}\"\u001b[0m\u001b[0;34m)\u001b[0m\u001b[0;34m\u001b[0m\u001b[0;34m\u001b[0m\u001b[0m\n\u001b[0;32m---> 99\u001b[0;31m                 \u001b[0mshow_matrix_attention\u001b[0m\u001b[0;34m(\u001b[0m\u001b[0mtokens_p\u001b[0m\u001b[0;34m,\u001b[0m \u001b[0mtokens_h\u001b[0m\u001b[0;34m,\u001b[0m \u001b[0mret\u001b[0m\u001b[0;34m[\u001b[0m\u001b[0;34m\"attentions\"\u001b[0m\u001b[0;34m]\u001b[0m\u001b[0;34m[\u001b[0m\u001b[0;34mf\"matching{i}\"\u001b[0m\u001b[0;34m]\u001b[0m\u001b[0;34m[\u001b[0m\u001b[0;36m0\u001b[0m\u001b[0;34m]\u001b[0m\u001b[0;34m)\u001b[0m\u001b[0;34m\u001b[0m\u001b[0;34m\u001b[0m\u001b[0m\n\u001b[0m\u001b[1;32m    100\u001b[0m \u001b[0;34m\u001b[0m\u001b[0m\n\u001b[1;32m    101\u001b[0m \u001b[0;34m\u001b[0m\u001b[0m\n",
      "\u001b[0;31mTypeError\u001b[0m: 'NoneType' object is not subscriptable"
     ]
    }
   ],
   "source": [
    "vis_probe.visualize_json(probe_json)"
   ]
  },
  {
   "cell_type": "markdown",
   "metadata": {},
   "source": [
    "# Predicting with loaded model on HANS\n",
    "- ensure output directory\n",
    "- use predict on instance "
   ]
  },
  {
   "cell_type": "code",
   "execution_count": 52,
   "metadata": {},
   "outputs": [],
   "source": [
    "output_dir = './hans_prediction/'\n",
    "if not os.path.exists(output_dir):\n",
    "    os.mkdir(output_dir)\n",
    "output_filename = 'GMN_ELMO_CG_AD_300d_MNLI.txt'\n",
    "output_file = output_dir + output_filename"
   ]
  },
  {
   "cell_type": "code",
   "execution_count": 53,
   "metadata": {},
   "outputs": [
    {
     "data": {
      "text/plain": [
       "False"
      ]
     },
     "execution_count": 53,
     "metadata": {},
     "output_type": "execute_result"
    }
   ],
   "source": [
    "# devset = \n",
    "next(lm.parameters()).is_cuda"
   ]
  },
  {
   "cell_type": "code",
   "execution_count": 55,
   "metadata": {},
   "outputs": [
    {
     "data": {
      "application/vnd.jupyter.widget-view+json": {
       "model_id": "de83f73acd44447ea65879bed4e2c18b",
       "version_major": 2,
       "version_minor": 0
      },
      "text/plain": [
       "HBox(children=(FloatProgress(value=1.0, bar_style='info', max=1.0), HTML(value='')))"
      ]
     },
     "metadata": {},
     "output_type": "display_data"
    },
    {
     "name": "stdout",
     "output_type": "stream",
     "text": [
      "\n"
     ]
    }
   ],
   "source": [
    "import os \n",
    "from tqdm.notebook import tqdm as tqdm\n",
    "\n",
    "with open(output_file, \"w\") as fo:\n",
    "    fo.write(\"pairID,gold_label\" + os.linesep)\n",
    "    for idx, instance in tqdm(enumerate(devset)):\n",
    "        res = lm.forward_on_instance(devset[idx])\n",
    "        if res['predicted_label'] == 'entailment':\n",
    "            hans_label = 'entailment'\n",
    "        else:\n",
    "            hans_label = 'non-entailment'\n",
    "        hans_problem_id = 'ex' + str(idx)\n",
    "        fo.write( hans_problem_id + ',' + hans_label + os.linesep)"
   ]
  },
  {
   "cell_type": "code",
   "execution_count": 103,
   "metadata": {},
   "outputs": [],
   "source": [
    "#import subprocess"
   ]
  },
  {
   "cell_type": "code",
   "execution_count": 104,
   "metadata": {},
   "outputs": [],
   "source": [
    "#process = subprocess.run([\"ls\", \"-l\", \"/dev/null\"], stdout=subprocess.PIPE)"
   ]
  },
  {
   "cell_type": "code",
   "execution_count": 105,
   "metadata": {},
   "outputs": [],
   "source": [
    "#process.stdout"
   ]
  },
  {
   "cell_type": "code",
   "execution_count": 106,
   "metadata": {},
   "outputs": [],
   "source": [
    "#cmd = f\"python ../data/hans/evaluate_heur_output.py {output_file}\""
   ]
  },
  {
   "cell_type": "code",
   "execution_count": 107,
   "metadata": {},
   "outputs": [],
   "source": [
    "def run_process(cmd):\n",
    "    cmd_list = cmd.split()\n",
    "    process = subprocess.run(cmd_list, stdout=subprocess.PIPE)\n",
    "    return process"
   ]
  },
  {
   "cell_type": "code",
   "execution_count": 108,
   "metadata": {},
   "outputs": [],
   "source": [
    "#run_process(cmd)"
   ]
  },
  {
   "cell_type": "markdown",
   "metadata": {},
   "source": [
    "# Now Use HANS checker\n",
    "- goto MNLI/data/hans\n",
    "- python evaluate_heur_output.py ./hans_prediction/GMN_CG_AD_300d_MNLI.txt"
   ]
  },
  {
   "cell_type": "code",
   "execution_count": 58,
   "metadata": {},
   "outputs": [
    {
     "data": {
      "text/plain": [
       "'/work/2020-IIS-NLU-internship/MNLI/tests'"
      ]
     },
     "execution_count": 58,
     "metadata": {},
     "output_type": "execute_result"
    }
   ],
   "source": [
    "%pwd"
   ]
  },
  {
   "cell_type": "code",
   "execution_count": 59,
   "metadata": {},
   "outputs": [
    {
     "data": {
      "text/plain": [
       "'python evaluate_heur_output.py /work/2020-IIS-NLU-internship/MNLI/tests/hans_prediction/GMN_ELMO_CG_AD_300d_MNLI.txt'"
      ]
     },
     "execution_count": 59,
     "metadata": {},
     "output_type": "execute_result"
    }
   ],
   "source": [
    "f\"python evaluate_heur_output.py /work/2020-IIS-NLU-internship/MNLI/tests/hans_prediction/{output_filename}\""
   ]
  },
  {
   "cell_type": "raw",
   "metadata": {},
   "source": [
    "root@8c96f853ca48:/work/2020-IIS-NLU-internship/MNLI/data/hans# python evaluate_heur_output.py /work/2020-IIS-NLU-internship/MNLI/tests/hans_prediction/GMN_ELMO_CG_AD_300d_MNLI.txt\n",
    "Heuristic entailed results:\n",
    "lexical_overlap: 0.9696\n",
    "subsequence: 0.9856\n",
    "constituent: 0.9746\n",
    "\n",
    "Heuristic non-entailed results:\n",
    "lexical_overlap: 0.0148\n",
    "subsequence: 0.064\n",
    "constituent: 0.0256\n",
    "\n",
    "Subcase results:\n",
    "ln_subject/object_swap: 0.0\n",
    "ln_preposition: 0.0\n",
    "ln_relative_clause: 0.072\n",
    "ln_passive: 0.0\n",
    "ln_conjunction: 0.002\n",
    "le_relative_clause: 0.909\n",
    "le_around_prepositional_phrase: 0.999\n",
    "le_around_relative_clause: 0.942\n",
    "le_conjunction: 0.998\n",
    "le_passive: 1.0\n",
    "sn_NP/S: 0.121\n",
    "sn_PP_on_subject: 0.001\n",
    "sn_relative_clause_on_subject: 0.036\n",
    "sn_past_participle: 0.085\n",
    "sn_NP/Z: 0.077\n",
    "se_conjunction: 0.999\n",
    "se_adjective: 1.0\n",
    "se_understood_object: 0.976\n",
    "se_relative_clause_on_obj: 0.954\n",
    "se_PP_on_obj: 0.999\n",
    "cn_embedded_under_if: 0.095\n",
    "cn_after_if_clause: 0.0\n",
    "cn_embedded_under_verb: 0.0\n",
    "cn_disjunction: 0.033\n",
    "cn_adverb: 0.0\n",
    "ce_embedded_under_since: 0.945\n",
    "ce_after_since_clause: 1.0\n",
    "ce_embedded_under_verb: 0.956\n",
    "ce_conjunction: 0.972\n",
    "ce_adverb: 1.0\n",
    "\n",
    "Template results:\n",
    "temp1: 0.0\n",
    "temp5: 0.0\n",
    "temp7: 0.0\n",
    "temp3: 0.0\n",
    "temp2: 0.0\n",
    "temp4: 0.0\n",
    "temp6: 0.0\n",
    "temp11: 0.05952380952380952\n",
    "temp9: 0.10891089108910891\n",
    "temp15: 0.07\n",
    "temp16: 0.0625\n",
    "temp10: 0.036585365853658534\n",
    "temp8: 0.043478260869565216\n",
    "temp18: 0.11956521739130435\n",
    "temp12: 0.08641975308641975\n",
    "temp14: 0.09876543209876543\n",
    "temp19: 0.09302325581395349\n",
    "temp13: 0.0\n",
    "temp17: 0.058823529411764705\n",
    "temp21: 0.0\n",
    "temp20: 0.0\n",
    "temp22: 0.00423728813559322\n",
    "temp25: 0.0\n",
    "temp24: 0.0\n",
    "temp23: 0.004081632653061225\n",
    "temp28: 0.953125\n",
    "temp26: 0.8909774436090225\n",
    "temp29: 0.9209486166007905\n",
    "temp27: 0.8666666666666667\n",
    "temp30: 0.999\n",
    "temp31: 0.942\n",
    "temp32: 1.0\n",
    "temp33: 0.9960629921259843\n",
    "temp36: 1.0\n",
    "temp35: 1.0\n",
    "temp37: 0.121\n",
    "temp38: 0.001\n",
    "temp39: 0.036\n",
    "temp40: 0.09915966386554621\n",
    "temp41: 0.06419753086419754\n",
    "temp42: 0.06470588235294118\n",
    "temp43: 0.14666666666666667\n",
    "temp44: 0.9983792544570502\n",
    "temp45: 1.0\n",
    "temp46: 1.0\n",
    "temp47: 0.976\n",
    "temp48: 0.954\n",
    "temp49: 0.999\n",
    "temp50: 0.095\n",
    "temp51: 0.0\n",
    "temp52: 0.0\n",
    "temp53: 0.006369426751592357\n",
    "temp54: 0.05671077504725898\n",
    "temp58: 0.0\n",
    "temp59: 0.945\n",
    "temp60: 1.0\n",
    "temp61: 0.956\n",
    "temp63: 0.9557692307692308\n",
    "temp62: 0.9895833333333334\n",
    "temp68: 1.0"
   ]
  },
  {
   "cell_type": "raw",
   "metadata": {},
   "source": [
    "Heuristic entailed results:\n",
    "lexical_overlap: 1.0\n",
    "subsequence: 1.0\n",
    "constituent: 1.0\n",
    "\n",
    "Heuristic non-entailed results:\n",
    "lexical_overlap: 0.0\n",
    "subsequence: 0.0\n",
    "constituent: 0.0\n",
    "\n",
    "Subcase results:\n",
    "ln_subject/object_swap: 0.0\n",
    "ln_preposition: 0.0\n",
    "ln_relative_clause: 0.0\n",
    "ln_passive: 0.0\n",
    "ln_conjunction: 0.0\n",
    "le_relative_clause: 1.0\n",
    "le_around_prepositional_phrase: 1.0\n",
    "le_around_relative_clause: 1.0\n",
    "le_conjunction: 1.0\n",
    "le_passive: 1.0\n",
    "sn_NP/S: 0.0\n",
    "sn_PP_on_subject: 0.0\n",
    "sn_relative_clause_on_subject: 0.0\n",
    "sn_past_participle: 0.0\n",
    "sn_NP/Z: 0.0\n",
    "se_conjunction: 1.0\n",
    "se_adjective: 1.0\n",
    "se_understood_object: 1.0\n",
    "se_relative_clause_on_obj: 1.0\n",
    "se_PP_on_obj: 1.0\n",
    "cn_embedded_under_if: 0.0\n",
    "cn_after_if_clause: 0.0\n",
    "cn_embedded_under_verb: 0.0\n",
    "cn_disjunction: 0.0\n",
    "cn_adverb: 0.0\n",
    "ce_embedded_under_since: 1.0\n",
    "ce_after_since_clause: 1.0\n",
    "ce_embedded_under_verb: 1.0\n",
    "ce_conjunction: 1.0\n",
    "ce_adverb: 1.0\n",
    "\n",
    "Template results:\n",
    "temp1: 0.0\n",
    "temp5: 0.0\n",
    "temp7: 0.0\n",
    "temp3: 0.0\n",
    "temp2: 0.0\n",
    "temp4: 0.0\n",
    "temp6: 0.0\n",
    "temp11: 0.0\n",
    "temp9: 0.0\n",
    "temp15: 0.0\n",
    "temp16: 0.0\n",
    "temp10: 0.0\n",
    "temp8: 0.0\n",
    "temp18: 0.0\n",
    "temp12: 0.0\n",
    "temp14: 0.0\n",
    "temp19: 0.0\n",
    "temp13: 0.0\n",
    "temp17: 0.0\n",
    "temp21: 0.0\n",
    "temp20: 0.0\n",
    "temp22: 0.0\n",
    "temp25: 0.0\n",
    "temp24: 0.0\n",
    "temp23: 0.0\n",
    "temp28: 1.0\n",
    "temp26: 1.0\n",
    "temp29: 1.0\n",
    "temp27: 1.0\n",
    "temp30: 1.0\n",
    "temp31: 1.0\n",
    "temp32: 1.0\n",
    "temp33: 1.0\n",
    "temp36: 1.0\n",
    "temp35: 1.0\n",
    "temp37: 0.0\n",
    "temp38: 0.0\n",
    "temp39: 0.0\n",
    "temp40: 0.0\n",
    "temp41: 0.0\n",
    "temp42: 0.0\n",
    "temp43: 0.0\n",
    "temp44: 1.0\n",
    "temp45: 1.0\n",
    "temp46: 1.0\n",
    "temp47: 1.0\n",
    "temp48: 1.0\n",
    "temp49: 1.0\n",
    "temp50: 0.0\n",
    "temp51: 0.0\n",
    "temp52: 0.0\n",
    "temp53: 0.0\n",
    "temp54: 0.0\n",
    "temp58: 0.0\n",
    "temp59: 1.0\n",
    "temp60: 1.0\n",
    "temp61: 1.0\n",
    "temp63: 1.0\n",
    "temp62: 1.0\n",
    "temp68: 1.0\n",
    "root@8c96f853ca48:/work/2020-IIS-NLU-internship/MNLI/data/hans# python evaluate_heur_output.py bert_preds.txt Heuristic entailed results:\n",
    "lexical_overlap: 0.9464\n",
    "subsequence: 0.9932\n",
    "constituent: 0.9844\n",
    "\n",
    "Heuristic non-entailed results:\n",
    "lexical_overlap: 0.164\n",
    "subsequence: 0.0386\n",
    "constituent: 0.1612\n",
    "\n",
    "Subcase results:\n",
    "ln_subject/object_swap: 0.001\n",
    "ln_preposition: 0.246\n",
    "ln_relative_clause: 0.181\n",
    "ln_passive: 0.0\n",
    "ln_conjunction: 0.392\n",
    "le_relative_clause: 0.979\n",
    "le_around_prepositional_phrase: 0.995\n",
    "le_around_relative_clause: 0.993\n",
    "le_conjunction: 0.765\n",
    "le_passive: 1.0\n",
    "sn_NP/S: 0.019\n",
    "sn_PP_on_subject: 0.058\n",
    "sn_relative_clause_on_subject: 0.012\n",
    "sn_past_participle: 0.002\n",
    "sn_NP/Z: 0.102\n",
    "se_conjunction: 0.98\n",
    "se_adjective: 1.0\n",
    "se_understood_object: 1.0\n",
    "se_relative_clause_on_obj: 0.987\n",
    "se_PP_on_obj: 0.999\n",
    "cn_embedded_under_if: 0.499\n",
    "cn_after_if_clause: 0.002\n",
    "cn_embedded_under_verb: 0.216\n",
    "cn_disjunction: 0.012\n",
    "cn_adverb: 0.077\n",
    "ce_embedded_under_since: 0.931\n",
    "ce_after_since_clause: 1.0\n",
    "ce_embedded_under_verb: 0.991\n",
    "ce_conjunction: 1.0\n",
    "ce_adverb: 1.0\n",
    "\n",
    "Template results:\n",
    "temp1: 0.001\n",
    "temp5: 0.0\n",
    "temp7: 0.38144329896907214\n",
    "temp3: 0.03468208092485549\n",
    "temp2: 0.5480225988700564\n",
    "temp4: 0.19736842105263158\n",
    "temp6: 0.2653061224489796\n",
    "temp11: 0.35714285714285715\n",
    "temp9: 0.0594059405940594\n",
    "temp15: 0.29\n",
    "temp16: 0.275\n",
    "temp10: 0.12195121951219512\n",
    "temp8: 0.4057971014492754\n",
    "temp18: 0.30434782608695654\n",
    "temp12: 0.012345679012345678\n",
    "temp14: 0.0\n",
    "temp19: 0.23255813953488372\n",
    "temp13: 0.09210526315789473\n",
    "temp17: 0.0\n",
    "temp21: 0.0\n",
    "temp20: 0.0\n",
    "temp22: 0.5254237288135594\n",
    "temp25: 0.3157894736842105\n",
    "temp24: 0.24054982817869416\n",
    "temp23: 0.5142857142857142\n",
    "temp28: 0.984375\n",
    "temp26: 0.9699248120300752\n",
    "temp29: 0.9881422924901185\n",
    "temp27: 0.9733333333333334\n",
    "temp30: 0.995\n",
    "temp31: 0.993\n",
    "temp32: 0.9898373983739838\n",
    "temp33: 0.547244094488189\n",
    "temp36: 1.0\n",
    "temp35: 1.0\n",
    "temp37: 0.019\n",
    "temp38: 0.058\n",
    "temp39: 0.012\n",
    "temp40: 0.0033613445378151263\n",
    "temp41: 0.0\n",
    "temp42: 0.11411764705882353\n",
    "temp43: 0.03333333333333333\n",
    "temp44: 0.9675850891410048\n",
    "temp45: 1.0\n",
    "temp46: 1.0\n",
    "temp47: 1.0\n",
    "temp48: 0.987\n",
    "temp49: 0.999\n",
    "temp50: 0.499\n",
    "temp51: 0.002\n",
    "temp52: 0.216\n",
    "temp53: 0.0\n",
    "temp54: 0.022684310018903593\n",
    "temp58: 0.077\n",
    "temp59: 0.931\n",
    "temp60: 1.0\n",
    "temp61: 0.991\n",
    "temp63: 1.0\n",
    "temp62: 1.0\n",
    "temp68: 1.0"
   ]
  },
  {
   "cell_type": "code",
   "execution_count": null,
   "metadata": {},
   "outputs": [],
   "source": []
  }
 ],
 "metadata": {
  "kernelspec": {
   "display_name": "Python 3",
   "language": "python",
   "name": "python3"
  },
  "language_info": {
   "codemirror_mode": {
    "name": "ipython",
    "version": 3
   },
   "file_extension": ".py",
   "mimetype": "text/x-python",
   "name": "python",
   "nbconvert_exporter": "python",
   "pygments_lexer": "ipython3",
   "version": "3.7.7"
  }
 },
 "nbformat": 4,
 "nbformat_minor": 4
}
